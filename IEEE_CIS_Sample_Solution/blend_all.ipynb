{
 "cells": [
  {
   "cell_type": "code",
   "execution_count": 77,
   "metadata": {
    "collapsed": true
   },
   "outputs": [],
   "source": [
    "# General imports\n",
    "import pandas as pd\n",
    "import os, sys, gc, warnings\n",
    "\n",
    "warnings.filterwarnings('ignore')\n",
    "import numpy as np"
   ]
  },
  {
   "cell_type": "code",
   "execution_count": 78,
   "metadata": {
    "collapsed": true
   },
   "outputs": [],
   "source": [
    "#sub1 = pd.read_csv(r'D:\\学习\\data_mining\\IEEE-CIS_Fraud_Detection\\result\\baseline_result\\test_without_cum.csv',engine = 'python')\n",
    "#sub1 = pd.read_csv(r'data_middle\\submission_lgbm_random_cent.csv',engine = 'python')\n",
    "\n",
    "sub1 = pd.read_csv(r'middle_result\\submission_lgmb_final.csv',engine = 'python')\n"
   ]
  },
  {
   "cell_type": "code",
   "execution_count": 79,
   "metadata": {
    "collapsed": true
   },
   "outputs": [],
   "source": [
    "#sub2 = pd.read_csv(r'D:\\学习\\data_mining\\IEEE-CIS_Fraud_Detection\\my_code\\eda_and_model_0912\\result\\test_cat_without_cum.csv',engine = 'python')\n",
    "sub2 = pd.read_csv(r'middle_result\\submission_cat_final.csv',engine = 'python')"
   ]
  },
  {
   "cell_type": "code",
   "execution_count": 80,
   "metadata": {
    "collapsed": true
   },
   "outputs": [],
   "source": [
    "#sub3 = pd.read_csv(r'D:\\学习\\data_mining\\IEEE-CIS_Fraud_Detection\\my_code\\eda_and_model_0912\\result\\test_xgb_without_cum.csv',engine = 'python')\n",
    "sub3 = pd.read_csv(r'middle_result\\submission_xgb_final.csv',engine = 'python')"
   ]
  },
  {
   "cell_type": "code",
   "execution_count": 81,
   "metadata": {
    "collapsed": true
   },
   "outputs": [],
   "source": [
    "#sub4 = pd.read_csv(r'D:\\学习\\data_mining\\IEEE-CIS_Fraud_Detection\\blend_middle\\submission_85.csv',engine = 'python')\n",
    "#sub4 = pd.read_csv(r'data_middle\\submission_85.csv',engine = 'python')"
   ]
  },
  {
   "cell_type": "markdown",
   "metadata": {},
   "source": [
    "This submission is downloaded from https://www.kaggle.com/kyakovlev/ieee-catboost-baseline-with-groupkfold-cv/data  \n",
    "I used it for diversity.  \n",
    "If convenient, please upvote this kernel."
   ]
  },
  {
   "cell_type": "code",
   "execution_count": 82,
   "metadata": {
    "collapsed": true
   },
   "outputs": [],
   "source": [
    "#sub5 = pd.read_csv(r'D:\\学习\\data_mining\\IEEE-CIS_Fraud_Detection\\blend_middle\\submission_07.csv',engine = 'python')\n",
    "sub5 = pd.read_csv(r'middle_result\\submission_07.csv',engine = 'python')"
   ]
  },
  {
   "cell_type": "code",
   "execution_count": 83,
   "metadata": {
    "collapsed": true
   },
   "outputs": [],
   "source": [
    "sub6 = pd.read_csv(r'middle_result\\test_rf_0924.csv',engine = 'python')"
   ]
  },
  {
   "cell_type": "code",
   "execution_count": 84,
   "metadata": {
    "collapsed": true
   },
   "outputs": [],
   "source": [
    "sub = pd.read_csv(r'data\\sample_submission.csv',engine = 'python')\n",
    "sub['isFraud'] = 0\n",
    "\n",
    "sub['isFraud'] += 2 * sub1['isFraud']\n",
    "sub['isFraud'] += sub2['isFraud']\n",
    "sub['isFraud'] += 1.5 * sub3['isFraud']\n",
    "#sub['isFraud'] += sub4['isFraud']\n",
    "#sub['isFraud'] += sub5['isFraud']\n",
    "sub['isFraud'] += 0.3 * sub6['isFraud']\n",
    "\n",
    "sub.to_csv('result\\submission_self_final.csv', index=False)"
   ]
  },
  {
   "cell_type": "code",
   "execution_count": null,
   "metadata": {
    "collapsed": true
   },
   "outputs": [],
   "source": []
  }
 ],
 "metadata": {
  "kernelspec": {
   "display_name": "Python 3",
   "language": "python",
   "name": "python3"
  },
  "language_info": {
   "codemirror_mode": {
    "name": "ipython",
    "version": 3
   },
   "file_extension": ".py",
   "mimetype": "text/x-python",
   "name": "python",
   "nbconvert_exporter": "python",
   "pygments_lexer": "ipython3",
   "version": "3.6.1"
  }
 },
 "nbformat": 4,
 "nbformat_minor": 2
}
