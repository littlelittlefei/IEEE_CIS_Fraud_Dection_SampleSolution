{
 "cells": [
  {
   "cell_type": "code",
   "execution_count": 1,
   "metadata": {
    "collapsed": true
   },
   "outputs": [],
   "source": [
    "import datetime\n",
    "starttime = datetime.datetime.now()"
   ]
  },
  {
   "cell_type": "code",
   "execution_count": 2,
   "metadata": {
    "collapsed": true
   },
   "outputs": [],
   "source": [
    "import numpy as np\n",
    "import os\n",
    "import warnings\n",
    "warnings.filterwarnings(\"ignore\", category=DeprecationWarning)\n",
    "from sklearn import metrics\n",
    "#代价计算\n",
    "from sklearn.metrics import make_scorer, mean_squared_error\n",
    "#模型列举\n",
    "from sklearn.linear_model import Ridge, RidgeCV, ElasticNet, LassoCV, LassoLarsCV\n",
    "#模型选择\n",
    "from sklearn.model_selection import cross_val_score\n",
    "import pandas as pd\n",
    "\n",
    "from math import sqrt\n",
    "from sklearn.model_selection import GridSearchCV\n",
    "import xgboost as xgb\n",
    "import lightgbm as lgb\n",
    "from sklearn.ensemble import GradientBoostingRegressor\n",
    "from sklearn.svm import SVR\n",
    "from sklearn.ensemble import ExtraTreesRegressor\n",
    "from catboost import CatBoostClassifier\n",
    "from sklearn.model_selection import GroupKFold,KFold\n",
    "import gc\n",
    "\n",
    "def seed_everything(seed=0):\n",
    "    random.seed(seed)\n",
    "    os.environ['PYTHONHASHSEED'] = str(seed)\n",
    "    np.random.seed(seed)\n",
    "\n",
    "########################### Vars\n",
    "#################################################################################\n",
    "import random\n",
    "import datetime\n",
    "SEED = 42\n",
    "seed_everything(SEED)\n",
    "LOCAL_TEST = False\n",
    "TARGET = 'isFraud'\n",
    "START_DATE = datetime.datetime.strptime('2017-11-30', '%Y-%m-%d')\n",
    "fold = 6"
   ]
  },
  {
   "cell_type": "code",
   "execution_count": 3,
   "metadata": {},
   "outputs": [
    {
     "name": "stdout",
     "output_type": "stream",
     "text": [
      "loading training data...\n",
      "loading testing data...\n"
     ]
    }
   ],
   "source": [
    "features_columns = ['TransactionAmt', 'ProductCD', 'card1', 'card2', 'card3', 'card4', 'card5', 'card6', 'addr1', 'addr2', 'dist1', 'dist2', 'P_emaildomain', 'R_emaildomain', 'C1', 'C2', 'C3', 'C4', 'C5', 'C6', 'C7', 'C8', 'C9', 'C10', 'C11', 'C12', 'C13', 'C14', 'D1', 'D2', 'D3', 'D4', 'D5', 'D6', 'D7', 'D8', 'D10', 'D11', 'D12', 'D14', 'D15', 'M1', 'M3', 'M4', 'M5', 'M6', 'M7', 'M8', 'M9', 'V1', 'V2', 'V3', 'V4', 'V5', 'V6', 'V7', 'V8', 'V9', 'V10', 'V11', 'V12', 'V13', 'V14', 'V15', 'V16', 'V17', 'V18', 'V19', 'V20', 'V21', 'V22', 'V23', 'V24', 'V25', 'V26', 'V27', 'V28', 'V29', 'V30', 'V31', 'V32', 'V33', 'V34', 'V35', 'V36', 'V37', 'V38', 'V39', 'V40', 'V41', 'V42', 'V43', 'V44', 'V45', 'V46', 'V47', 'V48', 'V49', 'V50', 'V51', 'V52', 'V53', 'V54', 'V55', 'V56', 'V57', 'V58', 'V59', 'V60', 'V61', 'V62', 'V63', 'V64', 'V65', 'V66', 'V67', 'V68', 'V69', 'V70', 'V71', 'V72', 'V73', 'V74', 'V75', 'V76', 'V77', 'V78', 'V79', 'V80', 'V81', 'V82', 'V83', 'V84', 'V85', 'V86', 'V87', 'V88', 'V89', 'V90', 'V91', 'V92', 'V93', 'V94', 'V95', 'V96', 'V97', 'V98', 'V99', 'V100', 'V101', 'V102', 'V103', 'V104', 'V105', 'V106', 'V107', 'V108', 'V109', 'V110', 'V111', 'V112', 'V113', 'V114', 'V115', 'V116', 'V117', 'V118', 'V119', 'V120', 'V121', 'V122', 'V123', 'V124', 'V125', 'V126', 'V127', 'V128', 'V129', 'V130', 'V131', 'V132', 'V133', 'V134', 'V135', 'V136', 'V137', 'V138', 'V139', 'V140', 'V141', 'V142', 'V143', 'V144', 'V145', 'V146', 'V147', 'V148', 'V149', 'V150', 'V151', 'V152', 'V153', 'V154', 'V155', 'V156', 'V157', 'V158', 'V159', 'V160', 'V161', 'V162', 'V163', 'V164', 'V165', 'V166', 'V167', 'V168', 'V169', 'V170', 'V171', 'V172', 'V173', 'V174', 'V175', 'V176', 'V177', 'V178', 'V179', 'V180', 'V181', 'V182', 'V183', 'V184', 'V185', 'V186', 'V187', 'V188', 'V189', 'V190', 'V191', 'V192', 'V193', 'V194', 'V195', 'V196', 'V197', 'V198', 'V199', 'V200', 'V201', 'V202', 'V203', 'V204', 'V205', 'V206', 'V207', 'V208', 'V209', 'V210', 'V211', 'V212', 'V213', 'V214', 'V215', 'V216', 'V217', 'V218', 'V219', 'V220', 'V221', 'V222', 'V223', 'V224', 'V225', 'V226', 'V227', 'V228', 'V229', 'V230', 'V231', 'V232', 'V233', 'V234', 'V235', 'V236', 'V237', 'V238', 'V239', 'V240', 'V241', 'V242', 'V243', 'V244', 'V245', 'V246', 'V247', 'V248', 'V249', 'V250', 'V251', 'V252', 'V253', 'V254', 'V255', 'V256', 'V257', 'V258', 'V259', 'V260', 'V261', 'V262', 'V263', 'V264', 'V265', 'V266', 'V267', 'V268', 'V269', 'V270', 'V271', 'V272', 'V273', 'V274', 'V275', 'V276', 'V277', 'V278', 'V279', 'V280', 'V281', 'V282', 'V283', 'V284', 'V285', 'V286', 'V287', 'V288', 'V289', 'V290', 'V291', 'V292', 'V293', 'V294', 'V295', 'V296', 'V297', 'V298', 'V299', 'V300', 'V301', 'V302', 'V303', 'V304', 'V305', 'V306', 'V307', 'V308', 'V309', 'V310', 'V311', 'V312', 'V313', 'V314', 'V315', 'V316', 'V317', 'V318', 'V319', 'V320', 'V321', 'V322', 'V323', 'V324', 'V325', 'V326', 'V327', 'V328', 'V329', 'V330', 'V331', 'V332', 'V333', 'V334', 'V335', 'V336', 'V337', 'V338', 'V339', 'card1_V307_mean', 'card1_V307_std', 'card1_V307_max', 'card1_V307_min', 'card1_V307_median', 'card1_V307_nunique', 'card1_V307_skew', 'card2_V307_mean', 'card2_V307_std', 'card2_V307_max', 'card2_V307_min', 'card2_V307_median', 'card2_V307_nunique', 'card2_V307_skew', 'card3_V307_mean', 'card3_V307_std', 'card3_V307_max', 'card3_V307_min', 'card3_V307_median', 'card3_V307_nunique', 'card3_V307_skew', 'card5_V307_mean', 'card5_V307_std', 'card5_V307_max', 'card5_V307_min', 'card5_V307_median', 'card5_V307_nunique', 'card5_V307_skew', 'uid_V307_mean', 'uid_V307_std', 'uid_V307_max', 'uid_V307_min', 'uid_V307_median', 'uid_V307_nunique', 'uid_V307_skew', 'uid2_V307_mean', 'uid2_V307_std', 'uid2_V307_max', 'uid2_V307_min', 'uid2_V307_median', 'uid2_V307_nunique', 'uid2_V307_skew', 'uid3_V307_mean', 'uid3_V307_std', 'uid3_V307_max', 'uid3_V307_min', 'uid3_V307_median', 'uid3_V307_nunique', 'uid3_V307_skew', 'uid4_V307_mean', 'uid4_V307_std', 'uid4_V307_max', 'uid4_V307_min', 'uid4_V307_median', 'uid4_V307_nunique', 'uid4_V307_skew', 'uid5_V307_mean', 'uid5_V307_std', 'uid5_V307_max', 'uid5_V307_min', 'uid5_V307_median', 'uid5_V307_nunique', 'uid5_V307_skew', 'addr1_V307_mean', 'addr1_V307_std', 'addr1_V307_max', 'addr1_V307_min', 'addr1_V307_median', 'addr1_V307_nunique', 'addr1_V307_skew', 'uid7_V307_mean', 'uid7_V307_std', 'uid7_V307_max', 'uid7_V307_min', 'uid7_V307_median', 'uid7_V307_nunique', 'uid7_V307_skew', 'uid8_V307_mean', 'uid8_V307_std', 'uid8_V307_max', 'uid8_V307_min', 'uid8_V307_median', 'uid8_V307_nunique', 'uid8_V307_skew', 'card1_TransactionAmt_mean', 'card1_TransactionAmt_std', 'card1_TransactionAmt_max', 'card1_TransactionAmt_min', 'card1_TransactionAmt_median', 'card1_TransactionAmt_nunique', 'card1_TransactionAmt_skew', 'card2_TransactionAmt_mean', 'card2_TransactionAmt_std', 'card2_TransactionAmt_max', 'card2_TransactionAmt_min', 'card2_TransactionAmt_median', 'card2_TransactionAmt_nunique', 'card2_TransactionAmt_skew', 'card3_TransactionAmt_mean', 'card3_TransactionAmt_std', 'card3_TransactionAmt_max', 'card3_TransactionAmt_min', 'card3_TransactionAmt_median', 'card3_TransactionAmt_nunique', 'card3_TransactionAmt_skew', 'card5_TransactionAmt_mean', 'card5_TransactionAmt_std', 'card5_TransactionAmt_max', 'card5_TransactionAmt_min', 'card5_TransactionAmt_median', 'card5_TransactionAmt_nunique', 'card5_TransactionAmt_skew', 'uid_TransactionAmt_mean', 'uid_TransactionAmt_std', 'uid_TransactionAmt_max', 'uid_TransactionAmt_min', 'uid_TransactionAmt_median', 'uid_TransactionAmt_nunique', 'uid_TransactionAmt_skew', 'uid2_TransactionAmt_mean', 'uid2_TransactionAmt_std', 'uid2_TransactionAmt_max', 'uid2_TransactionAmt_min', 'uid2_TransactionAmt_median', 'uid2_TransactionAmt_nunique', 'uid2_TransactionAmt_skew', 'uid3_TransactionAmt_mean', 'uid3_TransactionAmt_std', 'uid3_TransactionAmt_max', 'uid3_TransactionAmt_min', 'uid3_TransactionAmt_median', 'uid3_TransactionAmt_nunique', 'uid3_TransactionAmt_skew', 'uid4_TransactionAmt_mean', 'uid4_TransactionAmt_std', 'uid4_TransactionAmt_max', 'uid4_TransactionAmt_min', 'uid4_TransactionAmt_median', 'uid4_TransactionAmt_nunique', 'uid4_TransactionAmt_skew', 'uid5_TransactionAmt_mean', 'uid5_TransactionAmt_std', 'uid5_TransactionAmt_max', 'uid5_TransactionAmt_min', 'uid5_TransactionAmt_median', 'uid5_TransactionAmt_nunique', 'uid5_TransactionAmt_skew', 'addr1_TransactionAmt_mean', 'addr1_TransactionAmt_std', 'addr1_TransactionAmt_max', 'addr1_TransactionAmt_min', 'addr1_TransactionAmt_median', 'addr1_TransactionAmt_nunique', 'addr1_TransactionAmt_skew', 'uid7_TransactionAmt_mean', 'uid7_TransactionAmt_std', 'uid7_TransactionAmt_max', 'uid7_TransactionAmt_min', 'uid7_TransactionAmt_median', 'uid7_TransactionAmt_nunique', 'uid7_TransactionAmt_skew', 'uid8_TransactionAmt_mean', 'uid8_TransactionAmt_std', 'uid8_TransactionAmt_min', 'uid8_TransactionAmt_median', 'uid8_TransactionAmt_skew', 'card1_D15_mean', 'card1_D15_std', 'card1_D15_max', 'card1_D15_min', 'card1_D15_median', 'card1_D15_nunique', 'card1_D15_skew', 'card2_D15_mean', 'card2_D15_std', 'card2_D15_max', 'card2_D15_min', 'card2_D15_median', 'card2_D15_nunique', 'card2_D15_skew', 'card3_D15_mean', 'card3_D15_std', 'card3_D15_max', 'card3_D15_min', 'card3_D15_median', 'card3_D15_nunique', 'card3_D15_skew', 'card5_D15_mean', 'card5_D15_std', 'card5_D15_max', 'card5_D15_min', 'card5_D15_median', 'card5_D15_nunique', 'card5_D15_skew', 'uid_D15_mean', 'uid_D15_std', 'uid_D15_max', 'uid_D15_min', 'uid_D15_median', 'uid_D15_nunique', 'uid_D15_skew', 'uid2_D15_mean', 'uid2_D15_std', 'uid2_D15_max', 'uid2_D15_min', 'uid2_D15_median', 'uid2_D15_nunique', 'uid2_D15_skew', 'uid3_D15_mean', 'uid3_D15_std', 'uid3_D15_max', 'uid3_D15_min', 'uid3_D15_median', 'uid3_D15_nunique', 'uid3_D15_skew', 'uid4_D15_std', 'uid4_D15_max', 'uid4_D15_min', 'uid4_D15_nunique', 'uid4_D15_skew', 'uid5_D15_std', 'uid5_D15_skew', 'addr1_D15_mean', 'addr1_D15_std', 'addr1_D15_max', 'addr1_D15_min', 'addr1_D15_median', 'addr1_D15_nunique', 'addr1_D15_skew', 'uid7_D15_skew', 'uid8_D15_skew', 'card1_dist1_mean', 'card1_dist1_std', 'card1_dist1_max', 'card1_dist1_min', 'card1_dist1_median', 'card1_dist1_nunique', 'card1_dist1_skew', 'card2_dist1_mean', 'card2_dist1_std', 'card2_dist1_max', 'card2_dist1_min', 'card2_dist1_median', 'card2_dist1_nunique', 'card2_dist1_skew', 'card3_dist1_mean', 'card3_dist1_std', 'card3_dist1_max', 'card3_dist1_min', 'card3_dist1_median', 'card3_dist1_nunique', 'card3_dist1_skew', 'card5_dist1_mean', 'card5_dist1_std', 'card5_dist1_max', 'card5_dist1_min', 'card5_dist1_median', 'card5_dist1_nunique', 'card5_dist1_skew', 'uid_dist1_mean', 'uid_dist1_std', 'uid_dist1_max', 'uid_dist1_min', 'uid_dist1_median', 'uid_dist1_nunique', 'uid_dist1_skew', 'uid2_dist1_mean', 'uid2_dist1_std', 'uid2_dist1_max', 'uid2_dist1_min', 'uid2_dist1_median', 'uid2_dist1_nunique', 'uid2_dist1_skew', 'uid3_dist1_mean', 'uid3_dist1_std', 'uid3_dist1_max', 'uid3_dist1_min', 'uid3_dist1_median', 'uid3_dist1_nunique', 'uid3_dist1_skew', 'uid4_dist1_mean', 'uid4_dist1_std', 'uid4_dist1_max', 'uid4_dist1_min', 'uid4_dist1_median', 'uid4_dist1_nunique', 'uid4_dist1_skew', 'uid5_dist1_mean', 'uid5_dist1_std', 'uid5_dist1_max', 'uid5_dist1_min', 'uid5_dist1_median', 'uid5_dist1_nunique', 'uid5_dist1_skew', 'addr1_dist1_mean', 'addr1_dist1_std', 'addr1_dist1_max', 'addr1_dist1_min', 'addr1_dist1_median', 'addr1_dist1_nunique', 'addr1_dist1_skew', 'uid7_dist1_std', 'email_check', 'R_emaildomain_prefix2', 'P_emaildomain_prefix2', 'id_01', 'id_02', 'id_04', 'id_05', 'id_06', 'id_07', 'id_12', 'id_13', 'id_14', 'id_16', 'id_17', 'id_19', 'id_20', 'id_26', 'id_28', 'id_29', 'id_32', 'id_34', 'id_35', 'id_36', 'id_37', 'id_38', 'DeviceType', 'DeviceInfo', 'id_33_0', 'id_33_1', 'is_na_sum2', 'not_na_sum2', 'id_30_device', 'UserAgent', 'card1_fq_enc', 'card2_fq_enc', 'card3_fq_enc', 'card5_fq_enc', 'C1_fq_enc', 'C2_fq_enc', 'C3_fq_enc', 'C4_fq_enc', 'C5_fq_enc', 'C6_fq_enc', 'C7_fq_enc', 'C8_fq_enc', 'C9_fq_enc', 'C10_fq_enc', 'C11_fq_enc', 'C13_fq_enc', 'C14_fq_enc', 'D1_fq_enc', 'D2_fq_enc', 'D8_fq_enc', 'addr1_fq_enc', 'addr2_fq_enc', 'dist1_fq_enc', 'P_emaildomain_fq_enc', 'R_emaildomain_prefix2_fq_enc', 'P_emaildomain_prefix2_fq_enc', 'DeviceInfo_device_fq_enc', 'DeviceInfo_version_fq_enc', 'id_30_fq_enc', 'id_30_device_fq_enc', 'id_30_version_fq_enc', 'id_31_device_fq_enc', 'id_33_fq_enc', 'uid_fq_enc', 'uid2_fq_enc', 'uid3_fq_enc', 'uid4_fq_enc', 'uid5_fq_enc', 'uid7_fq_enc', 'uid8_fq_enc', 'uid_DT_M']\n",
    "print('loading training data...')\n",
    "train_df = pd.read_pickle(r'data\\train_final.pkl')\n",
    "print('loading testing data...')\n",
    "test_df = pd.read_pickle(r'data\\test_final.pkl')"
   ]
  },
  {
   "cell_type": "code",
   "execution_count": 4,
   "metadata": {
    "collapsed": true
   },
   "outputs": [],
   "source": [
    "#必要的数据类型转换\n",
    "from sklearn.preprocessing import LabelEncoder\n",
    "cols = ['P_emaildomain', 'R_emaildomain', 'R_emaildomain_prefix2', 'P_emaildomain_prefix2', 'DeviceType', 'DeviceInfo', 'id_30_device', 'UserAgent','DeviceInfo_device']\n",
    "cols = [i for i in cols if i in features_columns]\n",
    "temp_df = pd.concat([train_df[cols],test_df[cols]])\n",
    "lbl = LabelEncoder()\n",
    "for df in [train_df,test_df]:\n",
    "    for col in cols:\n",
    "        lbl.fit(temp_df[col].astype(str))\n",
    "        train_df[col] = lbl.transform(train_df[col].astype(str))\n",
    "        test_df[col] = lbl.transform(test_df[col].astype(str))"
   ]
  },
  {
   "cell_type": "code",
   "execution_count": 5,
   "metadata": {
    "collapsed": true
   },
   "outputs": [],
   "source": [
    "xgb_param = {\n",
    "                 'colsample_bytree': 0.9,\n",
    "                 'eval_metric': 'auc',\n",
    "                 'learning_rate': 0.01,\n",
    "                 'max_depth': 15,\n",
    "                 'min_child_weight': 4,\n",
    "                 'n_estimators': 2000,\n",
    "                 #'n_estimators': 2,\n",
    "                 'objective': 'binary:logistic',\n",
    "                 'predictor': 'cpu_predictor',\n",
    "                 'seed': 42,\n",
    "                 'subsample': 0.9,\n",
    "                 'tree_method': 'gpu_hist'\n",
    "            }\n",
    "\n",
    "cat_param = {   'depth': 10,\n",
    "                 'eval_metric': 'AUC',\n",
    "                 'l2_leaf_reg': 5,\n",
    "                 'learning_rate': 0.05,\n",
    "                 'loss_function': 'Logloss',\n",
    "                 'metric_period': 200,\n",
    "                 'n_estimators': 5000,\n",
    "                 #'n_estimators': 5,\n",
    "                 'od_wait': 500,\n",
    "                 'random_seed': 42,\n",
    "                 'task_type': 'GPU'}"
   ]
  },
  {
   "cell_type": "code",
   "execution_count": 6,
   "metadata": {
    "collapsed": true
   },
   "outputs": [],
   "source": [
    "import xgboost as xgb\n",
    "\n",
    "def make_predictions_xgb(tr_df, tt_df, features_columns, target, xgb_params,round_ = 2200, NFOLDS=3):\n",
    "    \n",
    "    kf = KFold(n_splits = NFOLDS, shuffle = True, random_state=SEED)\n",
    "    \n",
    "    X_train = tr_df[features_columns]\n",
    "    y_train = tr_df['isFraud']\n",
    "    X_test = tt_df[features_columns]\n",
    "    gc.collect()\n",
    "    tt_df = tt_df[['TransactionID',target]]  \n",
    "\n",
    "    predictions = np.zeros(len(tt_df))\n",
    "    oof = np.zeros(len(tr_df))\n",
    "    \n",
    "    i = 0\n",
    "    for tr_idx, val_idx in kf.split(X_train, y_train):\n",
    "        print('Fold:',i)\n",
    "        i+=1\n",
    "        clf = xgb.XGBClassifier(**xgb_params)\n",
    "\n",
    "        X_tr = X_train.iloc[tr_idx, :]\n",
    "        y_tr = y_train.iloc[tr_idx]\n",
    "        X_val = X_train.iloc[val_idx, :]\n",
    "        y_val = y_train.iloc[val_idx]\n",
    "        clf.fit(X_tr, y_tr,eval_set =  [(X_val, y_val)] ,early_stopping_rounds  = 100,verbose = 200)\n",
    "        \n",
    "        oof_preds = clf.predict_proba(X_val)[:,1]\n",
    "        oof[val_idx] = (oof_preds - oof_preds.min())/(oof_preds.max() - oof_preds.min())\n",
    "        predictions+= clf.predict_proba(X_test)[:,1] / NFOLDS\n",
    "        del clf , X_tr,y_tr,X_val,y_val\n",
    "        \n",
    "    gc.collect()    \n",
    "\n",
    "    tt_df['prediction'] = predictions\n",
    "    print('OOF AUC:', metrics.roc_auc_score(y_train, oof))\n",
    "    if LOCAL_TEST:\n",
    "        print('Holdout AUC:', metrics.roc_auc_score(tt_df[TARGET], tt_df['prediction']))\n",
    "    \n",
    "    return tt_df,oof "
   ]
  },
  {
   "cell_type": "code",
   "execution_count": 7,
   "metadata": {
    "collapsed": true
   },
   "outputs": [],
   "source": [
    "from catboost import CatBoostClassifier\n",
    "\n",
    "def make_predictions_cat(tr_df, tt_df, features_columns, target, cat_params,round_ = 2200, NFOLDS=2):\n",
    "    \n",
    "    #folds = TimeSeriesSplit(n_splits=NFOLDS)\n",
    "    folds = GroupKFold(n_splits=NFOLDS)\n",
    "\n",
    "    X,y = tr_df[features_columns], tr_df[target]    \n",
    "    P,P_y = tt_df[features_columns], tt_df[target] \n",
    "    split_groups = tr_df['DT_M']\n",
    "\n",
    "    tt_df = tt_df[['TransactionID',target]]    \n",
    "    predictions = np.zeros(len(tt_df))\n",
    "    oof = np.zeros(len(tr_df))\n",
    "    \n",
    "    for fold_, (trn_idx, val_idx) in enumerate(folds.split(X, y, groups=split_groups)):\n",
    "        print('Fold:',fold_)\n",
    "        tr_x, tr_y = X.iloc[trn_idx,:], y[trn_idx]\n",
    "        vl_x, vl_y = X.iloc[val_idx,:], y[val_idx]\n",
    "            \n",
    "        print(len(tr_x),len(vl_x))\n",
    "        estimator = CatBoostClassifier(**cat_params)        \n",
    "        estimator.fit(\n",
    "            X.iloc[trn_idx,:],y[trn_idx],\n",
    "            eval_set=(X.iloc[val_idx,:], y[val_idx]),\n",
    "            #cat_features=categorical_features,\n",
    "            use_best_model=True,\n",
    "            verbose=200,\n",
    "            early_stopping_rounds = 100)        \n",
    "\n",
    "        \n",
    "        oof_preds = estimator.predict_proba(X.iloc[val_idx,:])[:,1]\n",
    "        oof[val_idx] = (oof_preds - oof_preds.min())/(oof_preds.max() - oof_preds.min())\n",
    "        predictions += estimator.predict_proba(P)[:,1]/NFOLDS\n",
    "        \n",
    "\n",
    "        if LOCAL_TEST:\n",
    "            feature_imp = pd.DataFrame(sorted(zip(estimator.feature_importance(),X.columns)), columns=['Value','Feature'])\n",
    "            print(feature_imp)\n",
    "\n",
    "        #feature_imp = pd.DataFrame(sorted(zip(estimator.feature_importance(),X.columns)), columns=['Value','Feature'])\n",
    "        #feature_imp.to_csv(\"feature.csv\",index = False)         \n",
    "            \n",
    "        del tr_x, tr_y, vl_x, vl_y\n",
    "        gc.collect()\n",
    "        \n",
    "    tt_df['prediction'] = predictions\n",
    "    print('OOF AUC:', metrics.roc_auc_score(y, oof))\n",
    "    if LOCAL_TEST:\n",
    "        print('Holdout AUC:', metrics.roc_auc_score(tt_df[TARGET], tt_df['prediction']))\n",
    "    \n",
    "    return tt_df,oof"
   ]
  },
  {
   "cell_type": "code",
   "execution_count": 8,
   "metadata": {},
   "outputs": [
    {
     "name": "stdout",
     "output_type": "stream",
     "text": [
      "Fold: 0\n",
      "[0]\tvalidation_0-auc:0.865318\n",
      "Will train until validation_0-auc hasn't improved in 100 rounds.\n",
      "[200]\tvalidation_0-auc:0.930951\n",
      "[400]\tvalidation_0-auc:0.957242\n",
      "[600]\tvalidation_0-auc:0.969683\n",
      "[800]\tvalidation_0-auc:0.973875\n",
      "[1000]\tvalidation_0-auc:0.975547\n",
      "[1200]\tvalidation_0-auc:0.976483\n",
      "[1400]\tvalidation_0-auc:0.977104\n",
      "[1600]\tvalidation_0-auc:0.977462\n",
      "[1800]\tvalidation_0-auc:0.977731\n",
      "[1999]\tvalidation_0-auc:0.9779\n",
      "Fold: 1\n",
      "[0]\tvalidation_0-auc:0.865213\n",
      "Will train until validation_0-auc hasn't improved in 100 rounds.\n",
      "[200]\tvalidation_0-auc:0.935642\n",
      "[400]\tvalidation_0-auc:0.959404\n",
      "[600]\tvalidation_0-auc:0.970891\n",
      "[800]\tvalidation_0-auc:0.974933\n",
      "[1000]\tvalidation_0-auc:0.976516\n",
      "[1200]\tvalidation_0-auc:0.977457\n",
      "[1400]\tvalidation_0-auc:0.977991\n",
      "[1600]\tvalidation_0-auc:0.978365\n",
      "[1800]\tvalidation_0-auc:0.978577\n",
      "[1999]\tvalidation_0-auc:0.978746\n",
      "Fold: 2\n",
      "[0]\tvalidation_0-auc:0.861197\n",
      "Will train until validation_0-auc hasn't improved in 100 rounds.\n",
      "[200]\tvalidation_0-auc:0.928022\n",
      "[400]\tvalidation_0-auc:0.953882\n",
      "[600]\tvalidation_0-auc:0.966086\n",
      "[800]\tvalidation_0-auc:0.970658\n",
      "[1000]\tvalidation_0-auc:0.972581\n",
      "[1200]\tvalidation_0-auc:0.973765\n",
      "[1400]\tvalidation_0-auc:0.974628\n",
      "[1600]\tvalidation_0-auc:0.97517\n",
      "[1800]\tvalidation_0-auc:0.975469\n",
      "[1999]\tvalidation_0-auc:0.975681\n"
     ]
    },
    {
     "name": "stderr",
     "output_type": "stream",
     "text": [
      "C:\\Users\\xuefei\\Anaconda3\\lib\\site-packages\\ipykernel_launcher.py:35: SettingWithCopyWarning: \n",
      "A value is trying to be set on a copy of a slice from a DataFrame.\n",
      "Try using .loc[row_indexer,col_indexer] = value instead\n",
      "\n",
      "See the caveats in the documentation: http://pandas.pydata.org/pandas-docs/stable/indexing.html#indexing-view-versus-copy\n"
     ]
    },
    {
     "name": "stdout",
     "output_type": "stream",
     "text": [
      "OOF AUC: 0.9774382389302274\n"
     ]
    },
    {
     "name": "stderr",
     "output_type": "stream",
     "text": [
      "C:\\Users\\xuefei\\Anaconda3\\lib\\site-packages\\ipykernel_launcher.py:2: SettingWithCopyWarning: \n",
      "A value is trying to be set on a copy of a slice from a DataFrame.\n",
      "Try using .loc[row_indexer,col_indexer] = value instead\n",
      "\n",
      "See the caveats in the documentation: http://pandas.pydata.org/pandas-docs/stable/indexing.html#indexing-view-versus-copy\n",
      "  \n"
     ]
    }
   ],
   "source": [
    "test_predictions_xgb,oof = make_predictions_xgb(train_df, test_df, features_columns, TARGET, xgb_param, 2200,NFOLDS=3)\n",
    "test_predictions_xgb['isFraud'] = test_predictions_xgb['prediction']\n",
    "test_predictions_xgb[['TransactionID','isFraud']].to_csv(r'middle_result\\submission_xgb_final.csv', index=False)\n",
    "\n",
    "train_df['isFraud_predict'] = oof\n",
    "train_df[['TransactionID','isFraud_predict']].to_csv(r'middle_result\\submission_xgb_train_final.csv', index=False)   "
   ]
  },
  {
   "cell_type": "code",
   "execution_count": 9,
   "metadata": {},
   "outputs": [
    {
     "data": {
      "text/plain": [
       "7"
      ]
     },
     "execution_count": 9,
     "metadata": {},
     "output_type": "execute_result"
    }
   ],
   "source": [
    "gc.collect()"
   ]
  },
  {
   "cell_type": "code",
   "execution_count": 10,
   "metadata": {},
   "outputs": [
    {
     "name": "stdout",
     "output_type": "stream",
     "text": [
      "Fold: 0\n",
      "456201 134339\n",
      "0:\tlearn: 0.8199949\ttest: 0.7835177\tbest: 0.7835177 (0)\ttotal: 115ms\tremaining: 9m 36s\n",
      "200:\tlearn: 0.9425005\ttest: 0.8955941\tbest: 0.8955941 (200)\ttotal: 15.5s\tremaining: 6m 10s\n",
      "400:\tlearn: 0.9609661\ttest: 0.9065151\tbest: 0.9065151 (400)\ttotal: 30.4s\tremaining: 5m 48s\n",
      "600:\tlearn: 0.9709811\ttest: 0.9113257\tbest: 0.9113353 (596)\ttotal: 45.1s\tremaining: 5m 30s\n",
      "800:\tlearn: 0.9778105\ttest: 0.9143941\tbest: 0.9143941 (800)\ttotal: 59.9s\tremaining: 5m 13s\n",
      "1000:\tlearn: 0.9827217\ttest: 0.9150980\tbest: 0.9154567 (984)\ttotal: 1m 14s\tremaining: 4m 58s\n",
      "1200:\tlearn: 0.9864879\ttest: 0.9164656\tbest: 0.9165174 (1199)\ttotal: 1m 29s\tremaining: 4m 42s\n",
      "1400:\tlearn: 0.9891486\ttest: 0.9172067\tbest: 0.9172531 (1395)\ttotal: 1m 44s\tremaining: 4m 27s\n",
      "bestTest = 0.9173407555\n",
      "bestIteration = 1420\n",
      "Shrink model to first 1421 iterations.\n",
      "Fold: 1\n",
      "488572 101968\n",
      "0:\tlearn: 0.8161399\ttest: 0.8111404\tbest: 0.8111404 (0)\ttotal: 100ms\tremaining: 8m 22s\n",
      "200:\tlearn: 0.9392294\ttest: 0.9165432\tbest: 0.9165432 (200)\ttotal: 16.2s\tremaining: 6m 25s\n",
      "400:\tlearn: 0.9578843\ttest: 0.9280272\tbest: 0.9280272 (400)\ttotal: 31.3s\tremaining: 5m 58s\n",
      "600:\tlearn: 0.9680330\ttest: 0.9334424\tbest: 0.9334424 (600)\ttotal: 46.3s\tremaining: 5m 38s\n",
      "800:\tlearn: 0.9754710\ttest: 0.9366257\tbest: 0.9366719 (790)\ttotal: 1m 1s\tremaining: 5m 21s\n",
      "1000:\tlearn: 0.9803314\ttest: 0.9385706\tbest: 0.9386257 (983)\ttotal: 1m 16s\tremaining: 5m 4s\n",
      "1200:\tlearn: 0.9839967\ttest: 0.9399966\tbest: 0.9399966 (1200)\ttotal: 1m 31s\tremaining: 4m 48s\n",
      "1400:\tlearn: 0.9867178\ttest: 0.9408525\tbest: 0.9408525 (1400)\ttotal: 1m 46s\tremaining: 4m 32s\n",
      "1600:\tlearn: 0.9892904\ttest: 0.9418265\tbest: 0.9418717 (1575)\ttotal: 2m 1s\tremaining: 4m 17s\n",
      "1800:\tlearn: 0.9911582\ttest: 0.9425898\tbest: 0.9426162 (1792)\ttotal: 2m 16s\tremaining: 4m 2s\n",
      "2000:\tlearn: 0.9928790\ttest: 0.9432461\tbest: 0.9432461 (2000)\ttotal: 2m 31s\tremaining: 3m 47s\n",
      "2200:\tlearn: 0.9942216\ttest: 0.9432779\tbest: 0.9433116 (2116)\ttotal: 2m 47s\tremaining: 3m 32s\n",
      "bestTest = 0.9433116317\n",
      "bestIteration = 2116\n",
      "Shrink model to first 2117 iterations.\n",
      "Fold: 2\n",
      "498030 92510\n",
      "0:\tlearn: 0.8218561\ttest: 0.8063238\tbest: 0.8063238 (0)\ttotal: 92ms\tremaining: 7m 40s\n",
      "200:\tlearn: 0.9371289\ttest: 0.9104148\tbest: 0.9104148 (200)\ttotal: 16.1s\tremaining: 6m 23s\n",
      "400:\tlearn: 0.9556429\ttest: 0.9225264\tbest: 0.9225264 (400)\ttotal: 31.5s\tremaining: 6m 1s\n",
      "600:\tlearn: 0.9665089\ttest: 0.9293966\tbest: 0.9293966 (600)\ttotal: 46.8s\tremaining: 5m 42s\n",
      "800:\tlearn: 0.9735228\ttest: 0.9338145\tbest: 0.9338145 (800)\ttotal: 1m 1s\tremaining: 5m 24s\n",
      "1000:\tlearn: 0.9788061\ttest: 0.9372386\tbest: 0.9372386 (1000)\ttotal: 1m 17s\tremaining: 5m 8s\n",
      "1200:\tlearn: 0.9825377\ttest: 0.9395489\tbest: 0.9395661 (1192)\ttotal: 1m 32s\tremaining: 4m 51s\n",
      "1400:\tlearn: 0.9856400\ttest: 0.9414692\tbest: 0.9414692 (1400)\ttotal: 1m 47s\tremaining: 4m 35s\n",
      "1600:\tlearn: 0.9882059\ttest: 0.9434102\tbest: 0.9434105 (1598)\ttotal: 2m 2s\tremaining: 4m 19s\n",
      "1800:\tlearn: 0.9903133\ttest: 0.9442682\tbest: 0.9442720 (1783)\ttotal: 2m 17s\tremaining: 4m 4s\n",
      "2000:\tlearn: 0.9919565\ttest: 0.9446685\tbest: 0.9447818 (1984)\ttotal: 2m 32s\tremaining: 3m 48s\n",
      "2200:\tlearn: 0.9932433\ttest: 0.9453204\tbest: 0.9453204 (2200)\ttotal: 2m 47s\tremaining: 3m 33s\n",
      "2400:\tlearn: 0.9945135\ttest: 0.9459293\tbest: 0.9460431 (2374)\ttotal: 3m 3s\tremaining: 3m 18s\n",
      "2600:\tlearn: 0.9953595\ttest: 0.9462956\tbest: 0.9464194 (2519)\ttotal: 3m 18s\tremaining: 3m 3s\n",
      "bestTest = 0.9464194179\n",
      "bestIteration = 2519\n",
      "Shrink model to first 2520 iterations.\n",
      "Fold: 3\n",
      "500867 89673\n",
      "0:\tlearn: 0.8100718\ttest: 0.8082426\tbest: 0.8082426 (0)\ttotal: 96ms\tremaining: 7m 59s\n",
      "200:\tlearn: 0.9381390\ttest: 0.9143316\tbest: 0.9143316 (200)\ttotal: 16.1s\tremaining: 6m 23s\n",
      "400:\tlearn: 0.9563822\ttest: 0.9275042\tbest: 0.9275042 (400)\ttotal: 31.2s\tremaining: 5m 57s\n",
      "600:\tlearn: 0.9666683\ttest: 0.9328269\tbest: 0.9328535 (598)\ttotal: 46.2s\tremaining: 5m 38s\n",
      "800:\tlearn: 0.9738061\ttest: 0.9366931\tbest: 0.9367027 (799)\ttotal: 1m 1s\tremaining: 5m 21s\n",
      "1000:\tlearn: 0.9791553\ttest: 0.9388204\tbest: 0.9388204 (1000)\ttotal: 1m 16s\tremaining: 5m 5s\n",
      "1200:\tlearn: 0.9829305\ttest: 0.9401423\tbest: 0.9401873 (1197)\ttotal: 1m 31s\tremaining: 4m 49s\n",
      "1400:\tlearn: 0.9862079\ttest: 0.9412858\tbest: 0.9414472 (1345)\ttotal: 1m 46s\tremaining: 4m 34s\n",
      "bestTest = 0.9414471984\n",
      "bestIteration = 1345\n",
      "Shrink model to first 1346 iterations.\n",
      "Fold: 4\n",
      "504815 85725\n",
      "0:\tlearn: 0.8148771\ttest: 0.8175211\tbest: 0.8175211 (0)\ttotal: 101ms\tremaining: 8m 24s\n",
      "200:\tlearn: 0.9373344\ttest: 0.9267061\tbest: 0.9267061 (200)\ttotal: 16.3s\tremaining: 6m 28s\n",
      "400:\tlearn: 0.9566820\ttest: 0.9340312\tbest: 0.9340312 (400)\ttotal: 31.9s\tremaining: 6m 5s\n",
      "600:\tlearn: 0.9672526\ttest: 0.9377998\tbest: 0.9380824 (594)\ttotal: 47.2s\tremaining: 5m 45s\n",
      "800:\tlearn: 0.9742763\ttest: 0.9399406\tbest: 0.9401484 (734)\ttotal: 1m 2s\tremaining: 5m 27s\n",
      "bestTest = 0.9406093955\n",
      "bestIteration = 875\n",
      "Shrink model to first 876 iterations.\n",
      "Fold: 5\n",
      "504215 86325\n",
      "0:\tlearn: 0.8207008\ttest: 0.8066377\tbest: 0.8066377 (0)\ttotal: 93.5ms\tremaining: 7m 47s\n",
      "200:\tlearn: 0.9386589\ttest: 0.9167123\tbest: 0.9167123 (200)\ttotal: 16.4s\tremaining: 6m 32s\n",
      "400:\tlearn: 0.9568208\ttest: 0.9309711\tbest: 0.9309711 (400)\ttotal: 31.8s\tremaining: 6m 4s\n",
      "600:\tlearn: 0.9667401\ttest: 0.9386315\tbest: 0.9386315 (600)\ttotal: 47.1s\tremaining: 5m 44s\n",
      "800:\tlearn: 0.9740721\ttest: 0.9433872\tbest: 0.9433872 (800)\ttotal: 1m 2s\tremaining: 5m 27s\n",
      "1000:\tlearn: 0.9794410\ttest: 0.9470087\tbest: 0.9470087 (1000)\ttotal: 1m 17s\tremaining: 5m 10s\n",
      "1200:\tlearn: 0.9833030\ttest: 0.9490183\tbest: 0.9490183 (1200)\ttotal: 1m 33s\tremaining: 4m 54s\n",
      "1400:\tlearn: 0.9864629\ttest: 0.9512376\tbest: 0.9512376 (1400)\ttotal: 1m 48s\tremaining: 4m 38s\n",
      "1600:\tlearn: 0.9888284\ttest: 0.9527498\tbest: 0.9527601 (1596)\ttotal: 2m 3s\tremaining: 4m 23s\n",
      "1800:\tlearn: 0.9908509\ttest: 0.9539709\tbest: 0.9540060 (1780)\ttotal: 2m 19s\tremaining: 4m 7s\n",
      "2000:\tlearn: 0.9924467\ttest: 0.9550864\tbest: 0.9551088 (1995)\ttotal: 2m 34s\tremaining: 3m 52s\n",
      "2200:\tlearn: 0.9937539\ttest: 0.9555295\tbest: 0.9556361 (2179)\ttotal: 2m 50s\tremaining: 3m 36s\n",
      "2400:\tlearn: 0.9947670\ttest: 0.9558466\tbest: 0.9558575 (2399)\ttotal: 3m 5s\tremaining: 3m 21s\n",
      "2600:\tlearn: 0.9956421\ttest: 0.9562006\tbest: 0.9562917 (2550)\ttotal: 3m 21s\tremaining: 3m 5s\n",
      "2800:\tlearn: 0.9963471\ttest: 0.9563047\tbest: 0.9564121 (2705)\ttotal: 3m 36s\tremaining: 2m 50s\n",
      "bestTest = 0.9564121366\n",
      "bestIteration = 2705\n",
      "Shrink model to first 2706 iterations.\n"
     ]
    },
    {
     "name": "stderr",
     "output_type": "stream",
     "text": [
      "C:\\Users\\xuefei\\Anaconda3\\lib\\site-packages\\ipykernel_launcher.py:47: SettingWithCopyWarning: \n",
      "A value is trying to be set on a copy of a slice from a DataFrame.\n",
      "Try using .loc[row_indexer,col_indexer] = value instead\n",
      "\n",
      "See the caveats in the documentation: http://pandas.pydata.org/pandas-docs/stable/indexing.html#indexing-view-versus-copy\n"
     ]
    },
    {
     "name": "stdout",
     "output_type": "stream",
     "text": [
      "OOF AUC: 0.9397761453536704\n"
     ]
    },
    {
     "name": "stderr",
     "output_type": "stream",
     "text": [
      "C:\\Users\\xuefei\\Anaconda3\\lib\\site-packages\\ipykernel_launcher.py:3: SettingWithCopyWarning: \n",
      "A value is trying to be set on a copy of a slice from a DataFrame.\n",
      "Try using .loc[row_indexer,col_indexer] = value instead\n",
      "\n",
      "See the caveats in the documentation: http://pandas.pydata.org/pandas-docs/stable/indexing.html#indexing-view-versus-copy\n",
      "  This is separate from the ipykernel package so we can avoid doing imports until\n"
     ]
    }
   ],
   "source": [
    "#test_predictions_cat,oof = make_predictions_cat(train_df, test_df, features_columns, TARGET, cat_param, 2200,NFOLDS=6)\n",
    "test_predictions_cat,oof = make_predictions_cat(train_df, test_df, features_columns, TARGET, cat_param, 2200,NFOLDS=6)\n",
    "test_predictions_cat['isFraud'] = test_predictions_cat['prediction']\n",
    "test_predictions_cat[['TransactionID','isFraud']].to_csv(r'middle_result\\submission_cat_final.csv', index=False)\n",
    "train_df['isFraud_predict'] = oof\n",
    "train_df[['TransactionID','isFraud_predict']].to_csv(r'middle_result\\submission_cat_train_final.csv', index=False)  "
   ]
  },
  {
   "cell_type": "code",
   "execution_count": null,
   "metadata": {
    "collapsed": true
   },
   "outputs": [],
   "source": []
  },
  {
   "cell_type": "code",
   "execution_count": null,
   "metadata": {
    "collapsed": true
   },
   "outputs": [],
   "source": []
  },
  {
   "cell_type": "code",
   "execution_count": null,
   "metadata": {
    "collapsed": true
   },
   "outputs": [],
   "source": []
  }
 ],
 "metadata": {
  "kernelspec": {
   "display_name": "Python 3",
   "language": "python",
   "name": "python3"
  },
  "language_info": {
   "codemirror_mode": {
    "name": "ipython",
    "version": 3
   },
   "file_extension": ".py",
   "mimetype": "text/x-python",
   "name": "python",
   "nbconvert_exporter": "python",
   "pygments_lexer": "ipython3",
   "version": "3.6.1"
  }
 },
 "nbformat": 4,
 "nbformat_minor": 2
}
